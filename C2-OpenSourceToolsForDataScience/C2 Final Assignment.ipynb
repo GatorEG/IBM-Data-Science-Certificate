{
    "cells": [
        {
            "metadata": {
                "collapsed": true
            },
            "cell_type": "markdown",
            "source": "# My Jupyter Notebook on IBM Data Science Experience"
        },
        {
            "metadata": {},
            "cell_type": "markdown",
            "source": "**Ethan Goldstein**  \nSpace Planner"
        },
        {
            "metadata": {},
            "cell_type": "markdown",
            "source": "*I am interested in data science as the amount of data collected is growing every day, and companies need people to turn it into actionable insights.*"
        },
        {
            "metadata": {},
            "cell_type": "markdown",
            "source": "### The cell below will display the integer 6."
        },
        {
            "metadata": {},
            "cell_type": "code",
            "source": "print(6)",
            "execution_count": 3,
            "outputs": [
                {
                    "output_type": "stream",
                    "text": "6\n",
                    "name": "stdout"
                }
            ]
        },
        {
            "metadata": {},
            "cell_type": "markdown",
            "source": "Below is a horizontal rule:\n\n---\n\n* this\n* is\n* a \n* bulleted\n* list\n\n---\n\n[This is a link to Google.com](https://www.google.com)\n\n---\n"
        }
    ],
    "metadata": {
        "kernelspec": {
            "name": "python3",
            "display_name": "Python 3.6",
            "language": "python"
        },
        "language_info": {
            "name": "python",
            "version": "3.6.8",
            "mimetype": "text/x-python",
            "codemirror_mode": {
                "name": "ipython",
                "version": 3
            },
            "pygments_lexer": "ipython3",
            "nbconvert_exporter": "python",
            "file_extension": ".py"
        }
    },
    "nbformat": 4,
    "nbformat_minor": 1
}