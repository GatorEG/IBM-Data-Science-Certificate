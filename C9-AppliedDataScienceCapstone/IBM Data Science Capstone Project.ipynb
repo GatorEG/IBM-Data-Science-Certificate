{
    "cells": [
        {
            "cell_type": "markdown",
            "metadata": {
                "collapsed": true
            },
            "source": "# Subway Surfing - Which subway station should I live near?\n\n## Introduction\nI have recently begun a new job in Downtown Toronto, which has a fantastic location right on the city's main subway (metro) line (Line 1 \u2013 Yonge University Spadina). However, I am currently living in the outer suburbs of the city, and the drive downtown in rush hour traffic is driving me insane. I would love to find  a new place to live, ideally right on a subway line for an easy commute. Transfers between subway lines are okay, but I don't want to have to take a bus or any other form of transit besides subways. \n\nSo, which subway stop should I centre my house hunting on?\nMy ideal place to live would be within walking distance of a variety of grocery stores, pubs, parks, and gluten free restaurants. I love to read, and would prefer if at least one public library was within walking distance. The total count of these venues will be the primary metric I use in deciding which subway station should be at the center of my property search.\n## Data \n### Walking Distance\nI am a moderately fast walker, and can walk ~1500 meters in about 15 minutes. I consider a 15 minute walk short enough to do complete without a second thought (or an urge to call an Uber/taxi), so will be using a distance of 1500 m as the 'walking distance' throughout this excercise.\n### Subway Stations\n**Data attribution:** *Contains information licensed under the Open Government Licence \u2013 Toronto*\nhttps://open.toronto.ca/dataset/ttc-routes-and-schedules/\n\nI will begin by exploring the TTC's (Toronto Transit Commission)  stop locations, which is provided through the City of Toronto's Open Data Portal. The City publishes a GTFS (General Transit Feed Specification) file, which contains route definitions, stop patterns, stop locations, and schedules. More information about this file format can be found in the Google Transit API Documentation: https://developers.google.com/transit/gtfs/reference.\n\nMy primary interest is in the subway stop data, which is stored in the stops.txt file. The TTC's file contains the stop ID, code, name, latitude, longitude, and whether or not the stop supports wheelchair boarding for all modes of transit. Bus and streetcar stop data will have to be removed before we proceed. As well, the file contains separate coordinates for each subway station platform. Most stations will have two sets of latitude and longitude (one set for the northbound/eastbound platform and one for the southbound/westbound platform), while interchange stations may have four sets of coordinates. I have averaged each platform's coordinates to provide one overall latitude/longitude for each subway station, saved in the *TTC_Subway_Stops_cleaned.csv* file. \n### Venues\nI will use Foursquare's location data to find the venues I am interested in that are within 1.5 km of each subway station. Specifically, I will use the Foursquare Places API venue search function. Details of thes API calls may be found in the Foursquare Developer documentation: https://developer.foursquare.com/docs/api/venues/search\n\n"
        },
        {
            "cell_type": "code",
            "execution_count": null,
            "metadata": {},
            "outputs": [],
            "source": ""
        }
    ],
    "metadata": {
        "kernelspec": {
            "display_name": "Python 3.6",
            "language": "python",
            "name": "python3"
        },
        "language_info": {
            "codemirror_mode": {
                "name": "ipython",
                "version": 3
            },
            "file_extension": ".py",
            "mimetype": "text/x-python",
            "name": "python",
            "nbconvert_exporter": "python",
            "pygments_lexer": "ipython3",
            "version": "3.6.9"
        }
    },
    "nbformat": 4,
    "nbformat_minor": 1
}